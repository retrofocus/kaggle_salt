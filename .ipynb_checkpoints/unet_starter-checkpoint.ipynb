{
 "cells": [
  {
   "cell_type": "code",
   "execution_count": 1,
   "metadata": {},
   "outputs": [
    {
     "name": "stdout",
     "output_type": "stream",
     "text": [
      "pytorch versino: 0.4.0\n",
      "use cuda: False\n"
     ]
    }
   ],
   "source": [
    "import torch\n",
    "from torch import nn\n",
    "from torch.nn import functional as F\n",
    "from torchvision import models, transforms\n",
    "import torchvision\n",
    "from torch.autograd import Variable\n",
    "from torch.utils.data import Dataset, DataLoader\n",
    "\n",
    "import numpy as np\n",
    "import pandas as pd\n",
    "import os\n",
    "import glob\n",
    "import cv2\n",
    "from skimage.transform import resize\n",
    "import matplotlib.pyplot as plt\n",
    "%matplotlib inline\n",
    "from unet import UNet\n",
    "from tqdm import tqdm\n",
    "\n",
    "torch.manual_seed(1)\n",
    "use_cuda = torch.cuda.is_available()\n",
    "print(\"pytorch versino:\", torch.__version__)\n",
    "print(\"use cuda:\", use_cuda)"
   ]
  },
  {
   "cell_type": "markdown",
   "metadata": {},
   "source": [
    "## Load Images"
   ]
  },
  {
   "cell_type": "code",
   "execution_count": 2,
   "metadata": {},
   "outputs": [
    {
     "name": "stdout",
     "output_type": "stream",
     "text": [
      "4000 4000 18000\n",
      "['../salt_data/train/images/44381a3f55.png', '../salt_data/train/images/70db04a203.png', '../salt_data/train/images/42c563d895.png']\n",
      "['../salt_data/train/masks/44381a3f55.png', '../salt_data/train/masks/70db04a203.png', '../salt_data/train/masks/42c563d895.png']\n",
      "['../salt_data/test/dc066ad24e.png', '../salt_data/test/9ddc91e5bb.png', '../salt_data/test/ef441205b5.png']\n",
      "['44381a3f55', '70db04a203', '42c563d895']\n",
      "['dc066ad24e', '9ddc91e5bb', 'ef441205b5']\n"
     ]
    }
   ],
   "source": [
    "\n",
    "#base_dir = \"/floyd/input/data\"\n",
    "base_dir = \"../salt_data\"\n",
    "test_image_dir = os.path.join(base_dir, \"test\")\n",
    "train_dir = os.path.join(base_dir, \"train\")\n",
    "train_image_dir = os.path.join(train_dir, \"images\")\n",
    "train_mask_dir = os.path.join(train_dir, \"masks\")\n",
    "\n",
    "fname_train_images = glob.glob(os.path.join(train_image_dir, \"*.png\"))\n",
    "fname_train_masks = glob.glob(os.path.join(train_mask_dir, \"*.png\"))\n",
    "fname_test_images = glob.glob(os.path.join(test_image_dir, \"*.png\"))\n",
    "\n",
    "train_ids = [os.path.split(fname)[1].replace(\".png\", \"\") for fname in fname_train_images]\n",
    "test_ids = [os.path.split(fname)[1].replace(\".png\", \"\") for fname in fname_test_images]\n",
    "\n",
    "print(len(fname_train_images), len(fname_train_masks), len(fname_test_images))\n",
    "print(fname_train_images[:3])\n",
    "print(fname_train_masks[:3])\n",
    "print(fname_test_images[:3])\n",
    "print(train_ids[:3])\n",
    "print(test_ids[:3])"
   ]
  },
  {
   "cell_type": "markdown",
   "metadata": {},
   "source": [
    "### confirm the image and mask are gray scale"
   ]
  },
  {
   "cell_type": "code",
   "execution_count": 3,
   "metadata": {},
   "outputs": [
    {
     "data": {
      "text/plain": [
       "(101, 101, 3)"
      ]
     },
     "execution_count": 3,
     "metadata": {},
     "output_type": "execute_result"
    },
    {
     "data": {
      "image/png": "[encoded data removed]",
      "text/plain": [
       "<Figure size 432x288 with 2 Axes>"
      ]
     },
     "metadata": {},
     "output_type": "display_data"
    }
   ],
   "source": [
    "idx = 11\n",
    "fname = fname_train_images[idx]\n",
    "img = cv2.imread(fname)\n",
    "\n",
    "fname = fname_train_masks[idx]\n",
    "mask = cv2.imread(fname)\n",
    "plt.subplot(1, 2, 1)\n",
    "plt.imshow(img)\n",
    "\n",
    "plt.subplot(1, 2, 2)\n",
    "plt.imshow(mask)\n",
    "\n",
    "img[1, 0, :], mask[1, 0, :]\n",
    "img.shape"
   ]
  },
  {
   "cell_type": "code",
   "execution_count": 4,
   "metadata": {},
   "outputs": [
    {
     "name": "stdout",
     "output_type": "stream",
     "text": [
      "13 14 13 14\n"
     ]
    },
    {
     "data": {
      "text/plain": [
       "tensor([[[[  0.,   1.,   2.,   3.,   4.],\n",
       "          [  5.,   6.,   7.,   8.,   9.],\n",
       "          [ 10.,  11.,  12.,  13.,  14.],\n",
       "          [ 15.,  16.,  17.,  18.,  19.],\n",
       "          [ 20.,  21.,  22.,  23.,  24.]]]])"
      ]
     },
     "execution_count": 4,
     "metadata": {},
     "output_type": "execute_result"
    }
   ],
   "source": [
    "org_size = (1, 101, 101)\n",
    "upsample_size = (1, 128, 128)\n",
    "\n",
    "def load_image(path):\n",
    "    img = cv2.imread(path)\n",
    "    img = img[:, :, 0:1] # take only 1 channel because every channel has same values\n",
    "    img = np.transpose(img, (2, 0, 1))\n",
    "    img = img/255\n",
    "    \n",
    "    return img\n",
    "\n",
    "def upsample_image(img):\n",
    "    return resize(img, upsample_size)\n",
    "\n",
    "def downsample_image(img):\n",
    "    return resize(img, org_size)\n",
    "\n",
    "class Resizing:\n",
    "    def __init__(self, left, right, top, bottom):\n",
    "        \n",
    "        self.m = nn.ReflectionPad2d((left, right, top, bottom))\n",
    "        \n",
    "        # for slicing\n",
    "        self.top = top\n",
    "        self.bottom = -bottom if bottom != 0 else None # 0 not work in slice in unpad function\n",
    "        self.left = left\n",
    "        self.right = -right if right != 0 else None\n",
    "        \n",
    "    def pad(self, imgs):\n",
    "        return self.m(imgs)\n",
    "    \n",
    "    def unpad(self, imgs):\n",
    "        return imgs[:, :, self.top:self.bottom, self.left:self.right]\n",
    "\n",
    "    \n",
    "size_diff = 128 - 101\n",
    "pad_size_left = size_diff // 2\n",
    "pad_size_right = size_diff // 2 + size_diff % 2\n",
    "pad_size_top = pad_size_left\n",
    "pad_size_bottom = pad_size_right\n",
    "print(pad_size_left, pad_size_right, pad_size_top, pad_size_bottom)\n",
    "\n",
    "a = torch.arange(25).reshape(1,1,5,5)\n",
    "rs = Resizing(0, 1, 0, 2)\n",
    "b = rs.pad(a)\n",
    "rs.unpad(b)\n"
   ]
  },
  {
   "cell_type": "code",
   "execution_count": 5,
   "metadata": {},
   "outputs": [],
   "source": [
    "\n",
    "\n",
    "class SaltDataset(Dataset):\n",
    "    def __init__(self, root_path, file_ids, is_test=False):\n",
    "        self.root_path = root_path\n",
    "        self.file_ids = file_ids\n",
    "        self.is_test = is_test\n",
    "    \n",
    "    def __len__(self):\n",
    "        return len(self.file_ids)\n",
    "    \n",
    "    def __getitem__(self, idx):\n",
    "        \n",
    "        file_id = self.file_ids[idx]\n",
    "        \n",
    "        if self.is_test:\n",
    "            image_folder = self.root_path\n",
    "        else:\n",
    "            image_folder = os.path.join(self.root_path, \"images\")\n",
    "        \n",
    "        image_path = os.path.join(image_folder, file_id + \".png\")\n",
    "        \n",
    "        img = load_image(image_path)\n",
    "        #img = upsample_image(img).astype(np.float32)\n",
    "        img = img.astype(np.float32)\n",
    "        \n",
    "        if self.is_test:\n",
    "            return img\n",
    "        \n",
    "        else:\n",
    "            mask_folder = os.path.join(self.root_path, \"masks\")\n",
    "            mask_path = os.path.join(mask_folder, file_id + \".png\")\n",
    "            mask = load_image(mask_path)\n",
    "            #mask = upsample_image(mask).astype(np.float32)\n",
    "            mask = mask.astype(np.float32)\n",
    "\n",
    "            return img, mask\n",
    "        \n",
    "    \n",
    "    "
   ]
  },
  {
   "cell_type": "code",
   "execution_count": 6,
   "metadata": {},
   "outputs": [],
   "source": [
    "def train(model, device, data_loader, loss_fn, optimizer):\n",
    "    train_loss = []\n",
    "    model.train()\n",
    "    \n",
    "    for image, mask in tqdm(data_loader):\n",
    "        image, mask = image.to(device), mask.to(device)\n",
    "        \n",
    "        y_pred = model(image)\n",
    "        loss = loss_fn(y_pred, mask)\n",
    "        train_loss.append(loss.item())\n",
    "        \n",
    "        optimizer.zero_grad()\n",
    "        loss.backward()\n",
    "        \n",
    "        optimizer.step()\n",
    "        \n",
    "    \n",
    "    return np.mean(train_loss)\n",
    "\n",
    "\n",
    "def validation(model, device, data_loader, loss_fn):\n",
    "    val_loss = []\n",
    "    model.eval()\n",
    "    \n",
    "    with torch.no_grad():\n",
    "        for image, mask in data_loader:\n",
    "            image, mask = image.to(device), mask.to(device)\n",
    "            y_pred = model(image)\n",
    "\n",
    "            loss = loss_fn(y_pred, mask)\n",
    "            val_loss.append(loss.item())\n",
    "    \n",
    "    return np.mean(val_loss)\n",
    "            \n",
    "            "
   ]
  },
  {
   "cell_type": "code",
   "execution_count": 12,
   "metadata": {},
   "outputs": [],
   "source": [
    "train_ids = train_ids[:16*4]\n",
    "val_id_list = train_ids[::10] \n",
    "train_id_list = [_id for _id in train_ids if _id not in val_id_list]\n",
    "\n",
    "train_dataset = SaltDataset(train_dir, file_ids=train_id_list)\n",
    "val_dataset = SaltDataset(train_dir, file_ids=val_id_list)\n",
    "train_data_loader = DataLoader(train_dataset, batch_size=16, shuffle=True)\n",
    "val_data_loader = DataLoader(val_dataset, batch_size=16, shuffle=True)\n",
    "\n",
    "\n",
    "\n",
    "device = torch.device(\"cuda\" if use_cuda else \"cpu\")\n",
    "model = UNet(num_class=1, input_channel=1, depth=5, start_filters=32,\n",
    "            pad_l=pad_size_left, pad_r=pad_size_right, pad_t=pad_size_top, pad_b=pad_size_bottom\n",
    "            ).to(device)\n",
    "\n",
    "learning_rate = 1e-4\n",
    "loss_fn = torch.nn.BCELoss()\n",
    "optimizer = torch.optim.Adam(model.parameters(), lr=learning_rate)\n",
    "\n",
    "n_epoch = 10\n",
    "\n",
    "train_loss_list = []\n",
    "val_loss_list = []"
   ]
  },
  {
   "cell_type": "code",
   "execution_count": 13,
   "metadata": {
    "scrolled": true
   },
   "outputs": [
    {
     "name": "stderr",
     "output_type": "stream",
     "text": [
      "\n",
      "  0%|          | 0/4 [00:00<?, ?it/s]\u001b[A\n",
      " 25%|██▌       | 1/4 [00:51<02:35, 51.91s/it]\u001b[A\n",
      " 50%|█████     | 2/4 [01:26<01:26, 43.46s/it]\u001b[A\n",
      " 75%|███████▌  | 3/4 [01:55<00:38, 38.50s/it]\u001b[A\n",
      "100%|██████████| 4/4 [02:07<00:00, 31.84s/it]\u001b[A\n",
      "\u001b[A\n",
      "  0%|          | 0/4 [00:00<?, ?it/s]\u001b[A"
     ]
    },
    {
     "name": "stdout",
     "output_type": "stream",
     "text": [
      "Epoch: 0, Train: 0.556, Val: 0.667\n"
     ]
    },
    {
     "name": "stderr",
     "output_type": "stream",
     "text": [
      "\n",
      " 25%|██▌       | 1/4 [00:27<01:21, 27.11s/it]\u001b[A\n",
      " 50%|█████     | 2/4 [00:54<00:54, 27.01s/it]\u001b[A\n",
      " 75%|███████▌  | 3/4 [01:24<00:28, 28.12s/it]\u001b[A\n",
      "100%|██████████| 4/4 [01:34<00:00, 23.72s/it]\u001b[A\n",
      "\u001b[A\n",
      "  0%|          | 0/4 [00:00<?, ?it/s]\u001b[A"
     ]
    },
    {
     "name": "stdout",
     "output_type": "stream",
     "text": [
      "Epoch: 1, Train: 0.552, Val: 0.655\n"
     ]
    },
    {
     "name": "stderr",
     "output_type": "stream",
     "text": [
      "\n",
      " 25%|██▌       | 1/4 [00:29<01:27, 29.17s/it]\u001b[A\n",
      " 50%|█████     | 2/4 [00:55<00:55, 27.94s/it]\u001b[A\n",
      " 75%|███████▌  | 3/4 [01:24<00:28, 28.17s/it]\u001b[A\n",
      "100%|██████████| 4/4 [01:34<00:00, 23.57s/it]\u001b[A\n",
      "\u001b[A\n",
      "  0%|          | 0/4 [00:00<?, ?it/s]\u001b[A"
     ]
    },
    {
     "name": "stdout",
     "output_type": "stream",
     "text": [
      "Epoch: 2, Train: 0.547, Val: 0.645\n"
     ]
    },
    {
     "name": "stderr",
     "output_type": "stream",
     "text": [
      "\n",
      " 25%|██▌       | 1/4 [00:31<01:33, 31.32s/it]\u001b[A\n",
      " 50%|█████     | 2/4 [01:00<01:00, 30.12s/it]\u001b[A\n",
      " 75%|███████▌  | 3/4 [01:41<00:33, 33.93s/it]\u001b[A\n",
      "100%|██████████| 4/4 [01:57<00:00, 29.42s/it]\u001b[A\n",
      "\u001b[A\n",
      "  0%|          | 0/4 [00:00<?, ?it/s]\u001b[A"
     ]
    },
    {
     "name": "stdout",
     "output_type": "stream",
     "text": [
      "Epoch: 3, Train: 0.538, Val: 0.636\n"
     ]
    },
    {
     "name": "stderr",
     "output_type": "stream",
     "text": [
      "\n",
      " 25%|██▌       | 1/4 [00:37<01:51, 37.20s/it]\u001b[A\n",
      " 50%|█████     | 2/4 [01:17<01:17, 38.74s/it]\u001b[A\n",
      " 75%|███████▌  | 3/4 [01:52<00:37, 37.58s/it]\u001b[A\n",
      "100%|██████████| 4/4 [02:03<00:00, 30.92s/it]\u001b[A\n",
      "\u001b[A"
     ]
    },
    {
     "name": "stdout",
     "output_type": "stream",
     "text": [
      "Epoch: 4, Train: 0.532, Val: 0.630\n"
     ]
    },
    {
     "data": {
      "text/plain": [
       "<matplotlib.legend.Legend at 0x1dcc6c550>"
      ]
     },
     "execution_count": 13,
     "metadata": {},
     "output_type": "execute_result"
    },
    {
     "data": {
      "image/png": "[encoded data removed]",
      "text/plain": [
       "<Figure size 432x288 with 1 Axes>"
      ]
     },
     "metadata": {},
     "output_type": "display_data"
    }
   ],
   "source": [
    "n_epoch = 5\n",
    "for epoch in range(n_epoch):\n",
    "    \n",
    "    train_loss = train(model, device, train_data_loader, loss_fn, optimizer)\n",
    "    train_loss_list.append(train_loss)\n",
    "    \n",
    "    val_loss = validation(model, device, val_data_loader, loss_fn)\n",
    "    val_loss_list.append(val_loss)\n",
    "    \n",
    "    print(\"Epoch: %d, Train: %.3f, Val: %.3f\" % (epoch, np.mean(train_loss_list), np.mean(val_loss_list)))\n",
    "\n",
    "plt.plot(train_loss_list, label=\"train\")\n",
    "plt.plot(val_loss_list, label=\"val\")\n",
    "plt.legend()\n",
    "        "
   ]
  },
  {
   "cell_type": "code",
   "execution_count": null,
   "metadata": {},
   "outputs": [],
   "source": [
    "#torch.save(model.state_dict(), \"model\")"
   ]
  },
  {
   "cell_type": "markdown",
   "metadata": {},
   "source": [
    "### submission"
   ]
  },
  {
   "cell_type": "code",
   "execution_count": 14,
   "metadata": {},
   "outputs": [],
   "source": [
    "#model.load_state_dict(torch.load(\"model\"))"
   ]
  },
  {
   "cell_type": "code",
   "execution_count": 19,
   "metadata": {},
   "outputs": [],
   "source": [
    "# https://www.kaggle.com/phoenigs/u-net-dropout-augmentation-stratification\n",
    "def rlenc(img, order='F', format=True):\n",
    "    \"\"\"\n",
    "    img is binary mask image, shape (r,c)\n",
    "    order is down-then-right, i.e. Fortran\n",
    "    format determines if the order needs to be preformatted (according to submission rules) or not\n",
    "\n",
    "    returns run length as an array or string (if format is True)\n",
    "    \"\"\"\n",
    "    bytes = img.reshape(img.shape[0] * img.shape[1], order=order)\n",
    "    runs = []  ## list of run lengths\n",
    "    r = 0  ## the current run length\n",
    "    pos = 1  ## count starts from 1 per WK\n",
    "    for c in bytes:\n",
    "        if (c == 0):\n",
    "            if r != 0:\n",
    "                runs.append((pos, r))\n",
    "                pos += r\n",
    "                r = 0\n",
    "            pos += 1\n",
    "        else:\n",
    "            r += 1\n",
    "\n",
    "    # if last run is unsaved (i.e. data ends with 1)\n",
    "    if r != 0:\n",
    "        runs.append((pos, r))\n",
    "        pos += r\n",
    "        r = 0\n",
    "\n",
    "    if format:\n",
    "        z = ''\n",
    "\n",
    "        for rr in runs:\n",
    "            z += '{} {} '.format(rr[0], rr[1])\n",
    "        return z[:-1]\n",
    "    else:\n",
    "        return runs"
   ]
  },
  {
   "cell_type": "code",
   "execution_count": 20,
   "metadata": {},
   "outputs": [],
   "source": [
    "\n",
    "\n",
    "def test(model, device, data_loader, threshold):\n",
    "    model.eval()\n",
    "    \n",
    "    y_pred_all = []\n",
    "    \n",
    "    with torch.no_grad():\n",
    "        \n",
    "        for img in tqdm(data_loader):\n",
    "            img = img.to(device)\n",
    "            y_pred = model(img)\n",
    "            img_pred = y_pred[0].cpu().numpy()\n",
    "            ds_img = downsample_image(img_pred)\n",
    "            \n",
    "            ds_img[ds_img >= threshold] = 1\n",
    "            ds_img[ds_img < threshold] = 0\n",
    "            \n",
    "            y_pred_all.append(ds_img[0])\n",
    "    \n",
    "    \n",
    "    y_pred_all = np.array(y_pred_all)\n",
    "    return y_pred_all\n",
    "            "
   ]
  },
  {
   "cell_type": "code",
   "execution_count": 21,
   "metadata": {},
   "outputs": [
    {
     "name": "stderr",
     "output_type": "stream",
     "text": [
      "/usr/local/lib/python3.6/site-packages/skimage/transform/_warps.py:105: UserWarning: The default mode, 'constant', will be changed to 'reflect' in skimage 0.15.\n",
      "  warn(\"The default mode, 'constant', will be changed to 'reflect' in \"\n",
      "/usr/local/lib/python3.6/site-packages/skimage/transform/_warps.py:110: UserWarning: Anti-aliasing will be enabled by default in skimage 0.15 to avoid aliasing artifacts when down-sampling images.\n",
      "  warn(\"Anti-aliasing will be enabled by default in skimage 0.15 to \"\n"
     ]
    }
   ],
   "source": [
    "threshold = 0.5\n",
    "test_dataset = SaltDataset(test_image_dir, file_ids=test_ids, is_test=True)\n",
    "test_data_loader = DataLoader(test_dataset, batch_size=1, shuffle=False)\n",
    "y_pred_all = test(model, device, test_data_loader, threshold)\n",
    "\n"
   ]
  },
  {
   "cell_type": "code",
   "execution_count": 22,
   "metadata": {},
   "outputs": [],
   "source": [
    "pred_dict = {idx: rlenc(mask) for (idx, mask) in zip(test_ids, y_pred_all)}\n",
    "sub = pd.DataFrame.from_dict(pred_dict,orient='index')\n",
    "sub.index.names = ['id']\n",
    "sub.columns = ['rle_mask']\n",
    "sub.to_csv('submission.csv')"
   ]
  },
  {
   "cell_type": "code",
   "execution_count": 16,
   "metadata": {},
   "outputs": [
    {
     "data": {
      "text/plain": [
       "array([[[0., 0., 0., ..., 0., 0., 0.],\n",
       "        [0., 0., 0., ..., 0., 0., 0.],\n",
       "        [0., 0., 0., ..., 0., 0., 0.],\n",
       "        ...,\n",
       "        [0., 0., 0., ..., 0., 0., 0.],\n",
       "        [0., 0., 0., ..., 0., 0., 0.],\n",
       "        [0., 0., 0., ..., 0., 0., 0.]],\n",
       "\n",
       "       [[0., 0., 0., ..., 0., 0., 0.],\n",
       "        [0., 0., 0., ..., 0., 0., 0.],\n",
       "        [0., 0., 0., ..., 0., 0., 0.],\n",
       "        ...,\n",
       "        [0., 0., 0., ..., 0., 0., 0.],\n",
       "        [0., 0., 0., ..., 0., 0., 0.],\n",
       "        [0., 0., 0., ..., 0., 0., 0.]],\n",
       "\n",
       "       [[0., 0., 0., ..., 0., 0., 0.],\n",
       "        [0., 0., 0., ..., 0., 0., 0.],\n",
       "        [0., 0., 0., ..., 0., 0., 0.],\n",
       "        ...,\n",
       "        [0., 0., 0., ..., 0., 0., 0.],\n",
       "        [0., 0., 0., ..., 0., 0., 0.],\n",
       "        [0., 0., 0., ..., 0., 0., 0.]],\n",
       "\n",
       "       ...,\n",
       "\n",
       "       [[0., 0., 0., ..., 0., 0., 0.],\n",
       "        [0., 0., 0., ..., 0., 0., 0.],\n",
       "        [0., 0., 0., ..., 0., 0., 0.],\n",
       "        ...,\n",
       "        [0., 0., 0., ..., 0., 0., 0.],\n",
       "        [0., 0., 0., ..., 0., 0., 0.],\n",
       "        [0., 0., 0., ..., 0., 0., 0.]],\n",
       "\n",
       "       [[0., 0., 0., ..., 0., 0., 0.],\n",
       "        [0., 0., 0., ..., 0., 0., 0.],\n",
       "        [0., 0., 0., ..., 0., 0., 0.],\n",
       "        ...,\n",
       "        [0., 0., 0., ..., 0., 0., 0.],\n",
       "        [0., 0., 0., ..., 0., 0., 0.],\n",
       "        [0., 0., 0., ..., 0., 0., 0.]],\n",
       "\n",
       "       [[0., 0., 0., ..., 0., 0., 0.],\n",
       "        [0., 0., 0., ..., 0., 0., 0.],\n",
       "        [0., 0., 0., ..., 0., 0., 0.],\n",
       "        ...,\n",
       "        [0., 0., 0., ..., 0., 0., 0.],\n",
       "        [0., 0., 0., ..., 0., 0., 0.],\n",
       "        [0., 0., 0., ..., 0., 0., 0.]]])"
      ]
     },
     "execution_count": 16,
     "metadata": {},
     "output_type": "execute_result"
    }
   ],
   "source": []
  },
  {
   "cell_type": "code",
   "execution_count": null,
   "metadata": {},
   "outputs": [],
   "source": []
  }
 ],
 "metadata": {
  "kernelspec": {
   "display_name": "Python [default]",
   "language": "python",
   "name": "python3"
  },
  "language_info": {
   "codemirror_mode": {
    "name": "ipython",
    "version": 3
   },
   "file_extension": ".py",
   "mimetype": "text/x-python",
   "name": "python",
   "nbconvert_exporter": "python",
   "pygments_lexer": "ipython3",
   "version": "3.6.3"
  },
  "varInspector": {
   "cols": {
    "lenName": 16,
    "lenType": 16,
    "lenVar": 40
   },
   "kernels_config": {
    "python": {
     "delete_cmd_postfix": "",
     "delete_cmd_prefix": "del ",
     "library": "var_list.py",
     "varRefreshCmd": "print(var_dic_list())"
    },
    "r": {
     "delete_cmd_postfix": ") ",
     "delete_cmd_prefix": "rm(",
     "library": "var_list.r",
     "varRefreshCmd": "cat(var_dic_list()) "
    }
   },
   "types_to_exclude": [
    "module",
    "function",
    "builtin_function_or_method",
    "instance",
    "_Feature"
   ],
   "window_display": false
  }
 },
 "nbformat": 4,
 "nbformat_minor": 2
}
