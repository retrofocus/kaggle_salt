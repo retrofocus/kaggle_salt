{
 "cells": [
  {
   "cell_type": "code",
   "execution_count": 2,
   "metadata": {},
   "outputs": [
    {
     "name": "stdout",
     "output_type": "stream",
     "text": [
      "pytorch versino: 0.4.0\n",
      "use cuda: False\n"
     ]
    }
   ],
   "source": [
    "import torch\n",
    "from torch import nn\n",
    "from torch.nn import functional as F\n",
    "from torchvision import models, transforms\n",
    "import torchvision\n",
    "from torch.autograd import Variable\n",
    "from torch.utils.data import Dataset, DataLoader\n",
    "\n",
    "import numpy as np\n",
    "import pandas as pd\n",
    "import os\n",
    "import glob\n",
    "import cv2\n",
    "from skimage.transform import resize\n",
    "import matplotlib.pyplot as plt\n",
    "%matplotlib inline\n",
    "from unet import UNet\n",
    "from tqdm import tqdm\n",
    "\n",
    "torch.manual_seed(1)\n",
    "use_cuda = torch.cuda.is_available()\n",
    "print(\"pytorch versino:\", torch.__version__)\n",
    "print(\"use cuda:\", use_cuda)\n",
    "\n",
    "submission_number = \"005\""
   ]
  },
  {
   "cell_type": "markdown",
   "metadata": {},
   "source": [
    "## Load Images"
   ]
  },
  {
   "cell_type": "code",
   "execution_count": 3,
   "metadata": {},
   "outputs": [
    {
     "name": "stdout",
     "output_type": "stream",
     "text": [
      "4000 4000 18000\n",
      "['/floyd/input/data/train/images/455c8febce.png', '/floyd/input/data/train/images/7053b28de2.png', '/floyd/input/data/train/images/e12cf83477.png']\n",
      "['/floyd/input/data/train/masks/455c8febce.png', '/floyd/input/data/train/masks/7053b28de2.png', '/floyd/input/data/train/masks/e12cf83477.png']\n",
      "['/floyd/input/data/test/9431677217.png', '/floyd/input/data/test/d33fce2c44.png', '/floyd/input/data/test/0373bd8d6c.png']\n",
      "['455c8febce', '7053b28de2', 'e12cf83477']\n",
      "['9431677217', 'd33fce2c44', '0373bd8d6c']\n"
     ]
    }
   ],
   "source": [
    "\n",
    "base_dir = \"/floyd/input/data\"\n",
    "#base_dir = \"../salt_data\"\n",
    "test_image_dir = os.path.join(base_dir, \"test\")\n",
    "train_dir = os.path.join(base_dir, \"train\")\n",
    "train_image_dir = os.path.join(train_dir, \"images\")\n",
    "train_mask_dir = os.path.join(train_dir, \"masks\")\n",
    "\n",
    "fname_train_images = glob.glob(os.path.join(train_image_dir, \"*.png\"))\n",
    "fname_train_masks = glob.glob(os.path.join(train_mask_dir, \"*.png\"))\n",
    "fname_test_images = glob.glob(os.path.join(test_image_dir, \"*.png\"))\n",
    "\n",
    "train_ids = [os.path.split(fname)[1].replace(\".png\", \"\") for fname in fname_train_images]\n",
    "test_ids = [os.path.split(fname)[1].replace(\".png\", \"\") for fname in fname_test_images]\n",
    "\n",
    "print(len(fname_train_images), len(fname_train_masks), len(fname_test_images))\n",
    "print(fname_train_images[:3])\n",
    "print(fname_train_masks[:3])\n",
    "print(fname_test_images[:3])\n",
    "print(train_ids[:3])\n",
    "print(test_ids[:3])"
   ]
  },
  {
   "cell_type": "markdown",
   "metadata": {},
   "source": [
    "### confirm the image and mask are gray scale"
   ]
  },
  {
   "cell_type": "code",
   "execution_count": 4,
   "metadata": {},
   "outputs": [
    {
     "data": {
      "text/plain": [
       "(101, 101, 3)"
      ]
     },
     "execution_count": 4,
     "metadata": {},
     "output_type": "execute_result"
    },
    {
     "data": {
      "image/png": "[encoded data removed]",
      "text/plain": [
       "<Figure size 432x288 with 2 Axes>"
      ]
     },
     "metadata": {},
     "output_type": "display_data"
    }
   ],
   "source": [
    "idx = 11\n",
    "fname = fname_train_images[idx]\n",
    "img = cv2.imread(fname)\n",
    "\n",
    "fname = fname_train_masks[idx]\n",
    "mask = cv2.imread(fname)\n",
    "plt.subplot(1, 2, 1)\n",
    "plt.imshow(img)\n",
    "\n",
    "plt.subplot(1, 2, 2)\n",
    "plt.imshow(mask)\n",
    "\n",
    "img[1, 0, :], mask[1, 0, :]\n",
    "img.shape"
   ]
  },
  {
   "cell_type": "markdown",
   "metadata": {},
   "source": [
    "## depth distribution and classification"
   ]
  },
  {
   "cell_type": "code",
   "execution_count": 12,
   "metadata": {},
   "outputs": [
    {
     "data": {
      "text/html": [
       "<div>\n",
       "<style scoped>\n",
       "    .dataframe tbody tr th:only-of-type {\n",
       "        vertical-align: middle;\n",
       "    }\n",
       "\n",
       "    .dataframe tbody tr th {\n",
       "        vertical-align: top;\n",
       "    }\n",
       "\n",
       "    .dataframe thead th {\n",
       "        text-align: right;\n",
       "    }\n",
       "</style>\n",
       "<table border=\"1\" class=\"dataframe\">\n",
       "  <thead>\n",
       "    <tr style=\"text-align: right;\">\n",
       "      <th></th>\n",
       "      <th>z</th>\n",
       "    </tr>\n",
       "    <tr>\n",
       "      <th>id</th>\n",
       "      <th></th>\n",
       "    </tr>\n",
       "  </thead>\n",
       "  <tbody>\n",
       "    <tr>\n",
       "      <th>575d24d81d</th>\n",
       "      <td>843</td>\n",
       "    </tr>\n",
       "    <tr>\n",
       "      <th>a266a2a9df</th>\n",
       "      <td>794</td>\n",
       "    </tr>\n",
       "    <tr>\n",
       "      <th>75efad62c1</th>\n",
       "      <td>468</td>\n",
       "    </tr>\n",
       "    <tr>\n",
       "      <th>34e51dba6a</th>\n",
       "      <td>727</td>\n",
       "    </tr>\n",
       "    <tr>\n",
       "      <th>4875705fb0</th>\n",
       "      <td>797</td>\n",
       "    </tr>\n",
       "  </tbody>\n",
       "</table>\n",
       "</div>"
      ],
      "text/plain": [
       "              z\n",
       "id             \n",
       "575d24d81d  843\n",
       "a266a2a9df  794\n",
       "75efad62c1  468\n",
       "34e51dba6a  727\n",
       "4875705fb0  797"
      ]
     },
     "execution_count": 12,
     "metadata": {},
     "output_type": "execute_result"
    }
   ],
   "source": [
    "train_df = pd.read_csv(os.path.join(base_dir, \"train.csv\"), index_col=\"id\", usecols=[0])\n",
    "depth_df = pd.read_csv(os.path.join(base_dir, \"depths.csv\"), index_col=\"id\")\n",
    "train_df = train_df.join(depth_df)\n",
    "test_df = depth_df[~depth_df.index.isin(train_df.index)]\n",
    "\n",
    "train_df.head()"
   ]
  },
  {
   "cell_type": "code",
   "execution_count": 13,
   "metadata": {},
   "outputs": [
    {
     "data": {
      "text/html": [
       "<div>\n",
       "<style scoped>\n",
       "    .dataframe tbody tr th:only-of-type {\n",
       "        vertical-align: middle;\n",
       "    }\n",
       "\n",
       "    .dataframe tbody tr th {\n",
       "        vertical-align: top;\n",
       "    }\n",
       "\n",
       "    .dataframe thead th {\n",
       "        text-align: right;\n",
       "    }\n",
       "</style>\n",
       "<table border=\"1\" class=\"dataframe\">\n",
       "  <thead>\n",
       "    <tr style=\"text-align: right;\">\n",
       "      <th></th>\n",
       "      <th>z</th>\n",
       "    </tr>\n",
       "    <tr>\n",
       "      <th>id</th>\n",
       "      <th></th>\n",
       "    </tr>\n",
       "  </thead>\n",
       "  <tbody>\n",
       "    <tr>\n",
       "      <th>353e010b7b</th>\n",
       "      <td>264</td>\n",
       "    </tr>\n",
       "    <tr>\n",
       "      <th>5439dbbddf</th>\n",
       "      <td>557</td>\n",
       "    </tr>\n",
       "    <tr>\n",
       "      <th>71bab9f311</th>\n",
       "      <td>846</td>\n",
       "    </tr>\n",
       "    <tr>\n",
       "      <th>52551f7a80</th>\n",
       "      <td>610</td>\n",
       "    </tr>\n",
       "    <tr>\n",
       "      <th>512d8d9997</th>\n",
       "      <td>577</td>\n",
       "    </tr>\n",
       "  </tbody>\n",
       "</table>\n",
       "</div>"
      ],
      "text/plain": [
       "              z\n",
       "id             \n",
       "353e010b7b  264\n",
       "5439dbbddf  557\n",
       "71bab9f311  846\n",
       "52551f7a80  610\n",
       "512d8d9997  577"
      ]
     },
     "execution_count": 13,
     "metadata": {},
     "output_type": "execute_result"
    }
   ],
   "source": [
    "test_df.head()"
   ]
  },
  {
   "cell_type": "code",
   "execution_count": 5,
   "metadata": {},
   "outputs": [
    {
     "name": "stdout",
     "output_type": "stream",
     "text": [
      "13 14 13 14\n"
     ]
    },
    {
     "data": {
      "text/plain": [
       "tensor([[[[  0.,   1.,   2.,   3.,   4.],\n",
       "          [  5.,   6.,   7.,   8.,   9.],\n",
       "          [ 10.,  11.,  12.,  13.,  14.],\n",
       "          [ 15.,  16.,  17.,  18.,  19.],\n",
       "          [ 20.,  21.,  22.,  23.,  24.]]]])"
      ]
     },
     "execution_count": 5,
     "metadata": {},
     "output_type": "execute_result"
    }
   ],
   "source": [
    "org_size = (1, 101, 101)\n",
    "upsample_size = (1, 128, 128)\n",
    "\n",
    "def load_image(path):\n",
    "    img = cv2.imread(path)\n",
    "    img = img[:, :, 0:1] # take only 1 channel because every channel has same values\n",
    "    img = np.transpose(img, (2, 0, 1))\n",
    "    img = img/255\n",
    "    \n",
    "    return img\n",
    "\n",
    "\n",
    "class Resizing:\n",
    "    def __init__(self, left, right, top, bottom):\n",
    "        \n",
    "        self.m = nn.ReflectionPad2d((left, right, top, bottom))\n",
    "        \n",
    "        # for slicing\n",
    "        self.top = top\n",
    "        self.bottom = -bottom if bottom != 0 else None # 0 not work in slice in unpad function\n",
    "        self.left = left\n",
    "        self.right = -right if right != 0 else None\n",
    "        \n",
    "    def pad(self, imgs):\n",
    "        return self.m(imgs)\n",
    "    \n",
    "    def unpad(self, imgs):\n",
    "        return imgs[:, :, self.top:self.bottom, self.left:self.right]\n",
    "\n",
    "    \n",
    "size_diff = 128 - 101\n",
    "pad_size_left = size_diff // 2\n",
    "pad_size_right = size_diff // 2 + size_diff % 2\n",
    "pad_size_top = pad_size_left\n",
    "pad_size_bottom = pad_size_right\n",
    "print(pad_size_left, pad_size_right, pad_size_top, pad_size_bottom)\n",
    "\n",
    "a = torch.arange(25).reshape(1,1,5,5)\n",
    "rs = Resizing(0, 1, 0, 2)\n",
    "b = rs.pad(a)\n",
    "rs.unpad(b)\n"
   ]
  },
  {
   "cell_type": "code",
   "execution_count": 6,
   "metadata": {},
   "outputs": [],
   "source": [
    "\n",
    "\n",
    "class SaltDataset(Dataset):\n",
    "    def __init__(self, root_path, file_ids, is_test=False):\n",
    "        self.root_path = root_path\n",
    "        self.file_ids = file_ids\n",
    "        self.is_test = is_test\n",
    "    \n",
    "    def __len__(self):\n",
    "        return len(self.file_ids)\n",
    "    \n",
    "    def __getitem__(self, idx):\n",
    "        \n",
    "        file_id = self.file_ids[idx]\n",
    "        \n",
    "        if self.is_test:\n",
    "            image_folder = self.root_path\n",
    "        else:\n",
    "            image_folder = os.path.join(self.root_path, \"images\")\n",
    "        \n",
    "        image_path = os.path.join(image_folder, file_id + \".png\")\n",
    "        \n",
    "        img = load_image(image_path)\n",
    "        img = img.astype(np.float32)\n",
    "        \n",
    "        if self.is_test:\n",
    "            return img\n",
    "        \n",
    "        else:\n",
    "            mask_folder = os.path.join(self.root_path, \"masks\")\n",
    "            mask_path = os.path.join(mask_folder, file_id + \".png\")\n",
    "            mask = load_image(mask_path)\n",
    "            mask = mask.astype(np.float32)\n",
    "\n",
    "            return img, mask\n",
    "        \n",
    "    \n",
    "    "
   ]
  },
  {
   "cell_type": "code",
   "execution_count": 7,
   "metadata": {},
   "outputs": [],
   "source": [
    "def train(model, device, data_loader, loss_fn, optimizer, pad_f):\n",
    "    train_loss = []\n",
    "    model.train()\n",
    "    \n",
    "    for image, mask in tqdm(data_loader):\n",
    "        image, mask = image.to(device), mask.to(device)\n",
    "        image = pad_f(image)\n",
    "        mask = pad_f(mask)\n",
    "        \n",
    "        y_pred = model(image)\n",
    "        loss = loss_fn(y_pred, mask)\n",
    "        train_loss.append(loss.item())\n",
    "        \n",
    "        optimizer.zero_grad()\n",
    "        loss.backward()\n",
    "        \n",
    "        optimizer.step()\n",
    "        \n",
    "    \n",
    "    return np.mean(train_loss)\n",
    "\n",
    "\n",
    "def validation(model, device, data_loader, loss_fn, pad_f):\n",
    "    val_loss = []\n",
    "    model.eval()\n",
    "    \n",
    "    \n",
    "    with torch.no_grad():\n",
    "        for image, mask in data_loader:\n",
    "            image, mask = image.to(device), mask.to(device)\n",
    "            image = pad_f(image)\n",
    "            mask = pad_f(mask)\n",
    "            \n",
    "            y_pred = model(image)\n",
    "\n",
    "            loss = loss_fn(y_pred, mask)\n",
    "            val_loss.append(loss.item())\n",
    "    \n",
    "    return np.mean(val_loss)\n",
    "\n",
    "            "
   ]
  },
  {
   "cell_type": "code",
   "execution_count": 8,
   "metadata": {},
   "outputs": [],
   "source": [
    "#train_ids = train_ids[:16*1]\n",
    "val_id_list = train_ids[::5] \n",
    "train_id_list = [_id for _id in train_ids if _id not in val_id_list]\n",
    "\n",
    "train_dataset = SaltDataset(train_dir, file_ids=train_id_list)\n",
    "val_dataset = SaltDataset(train_dir, file_ids=val_id_list)\n",
    "train_data_loader = DataLoader(train_dataset, batch_size=16, shuffle=True)\n",
    "val_data_loader = DataLoader(val_dataset, batch_size=16, shuffle=True)\n",
    "\n",
    "\n",
    "\n",
    "device = torch.device(\"cuda\" if use_cuda else \"cpu\")\n",
    "model = UNet(num_class=1, input_channel=1, depth=5, start_filters=32).to(device)\n",
    "\n",
    "learning_rate = 1e-4\n",
    "loss_fn = torch.nn.BCELoss()\n",
    "optimizer = torch.optim.Adam(model.parameters(), lr=learning_rate)\n",
    "\n",
    "n_epoch = 13\n",
    "\n",
    "train_loss_list = []\n",
    "val_loss_list = []\n",
    "\n",
    "rs = Resizing(pad_size_left, pad_size_right, pad_size_top, pad_size_bottom)"
   ]
  },
  {
   "cell_type": "code",
   "execution_count": 11,
   "metadata": {
    "scrolled": true
   },
   "outputs": [
    {
     "name": "stderr",
     "output_type": "stream",
     "text": [
      "100%|██████████| 200/200 [01:35<00:00,  2.09it/s]\n"
     ]
    },
    {
     "name": "stdout",
     "output_type": "stream",
     "text": [
      "Epoch: 0, Train: 0.227, Val: 0.228\n"
     ]
    },
    {
     "data": {
      "text/plain": [
       "<matplotlib.legend.Legend at 0x7f041049d0b8>"
      ]
     },
     "execution_count": 11,
     "metadata": {},
     "output_type": "execute_result"
    },
    {
     "data": {
      "image/png": "[encoded data removed]",
      "text/plain": [
       "<Figure size 432x288 with 1 Axes>"
      ]
     },
     "metadata": {},
     "output_type": "display_data"
    }
   ],
   "source": [
    "n_epoch = 1\n",
    "for epoch in range(n_epoch):\n",
    "    \n",
    "    train_loss = train(model, device, train_data_loader, loss_fn, optimizer, rs.pad)\n",
    "    train_loss_list.append(train_loss)\n",
    "    \n",
    "    val_loss = validation(model, device, val_data_loader, loss_fn, rs.pad)\n",
    "    val_loss_list.append(val_loss)\n",
    "    \n",
    "    print(\"Epoch: %d, Train: %.3f, Val: %.3f\" % (epoch, train_loss_list, val_loss_list))\n",
    "\n",
    "plt.plot(train_loss_list, label=\"train\")\n",
    "plt.plot(val_loss_list, label=\"val\")\n",
    "plt.legend()\n",
    "        "
   ]
  },
  {
   "cell_type": "code",
   "execution_count": 22,
   "metadata": {},
   "outputs": [],
   "source": [
    "#torch.save(model.state_dict(), \"model_%s\" % submission_number)"
   ]
  },
  {
   "cell_type": "markdown",
   "metadata": {},
   "source": [
    "### submission"
   ]
  },
  {
   "cell_type": "code",
   "execution_count": 9,
   "metadata": {},
   "outputs": [],
   "source": [
    "#model.load_state_dict(torch.load(\"model\"))"
   ]
  },
  {
   "cell_type": "code",
   "execution_count": 12,
   "metadata": {},
   "outputs": [],
   "source": [
    "def rl_enc(img, order='F'):\n",
    "    \"\"\"Convert binary mask image to run-length array or string.\n",
    "    \n",
    "    Args:\n",
    "    img: image in shape [n, m]\n",
    "    order: is down-then-right, i.e. Fortran(F)\n",
    "    string: return in string or array\n",
    "\n",
    "    Return:\n",
    "    run-length as a string: <start[1s] length[1s] ... ...>\n",
    "    \"\"\"\n",
    "    bytez = img.reshape(img.shape[0] * img.shape[1], order=order)\n",
    "    bytez = np.concatenate([[0], bytez, [0]])\n",
    "    runs = np.where(bytez[1:] != bytez[:-1])[0] + 1 # pos start at 1\n",
    "    runs[1::2] -= runs[::2]\n",
    "    return ' '.join(str(x) for x in runs)\n",
    "\n",
    "# Use for sanity check the encode function\n",
    "def rl_dec(rl_string, shape=(101, 101), order='F'):\n",
    "    \"\"\"Convert run-length string to binary mask image.\n",
    "    \n",
    "    Args:\n",
    "    rl_string: \n",
    "    shape: target shape of array\n",
    "    order: decode order is down-then-right, i.e. Fortran(F)\n",
    "\n",
    "    Return:\n",
    "    binary mask image as array\n",
    "    \"\"\"\n",
    "    s = rl_string.split()\n",
    "    starts, lengths = [np.asarray(x, dtype=int) for x in (s[0:][::2], s[1:][::2])]\n",
    "    starts -= 1\n",
    "    ends = starts + lengths\n",
    "    img = np.zeros(shape[0]*shape[1], dtype=np.uint8)\n",
    "    for lo, hi in zip(starts, ends):\n",
    "        img[lo:hi] = 1\n",
    "    return img.reshape(shape, order=order)"
   ]
  },
  {
   "cell_type": "code",
   "execution_count": 13,
   "metadata": {},
   "outputs": [],
   "source": [
    "# https://www.kaggle.com/phoenigs/u-net-dropout-augmentation-stratification\n",
    "def rlenc(img, order='F', format=True):\n",
    "    \"\"\"\n",
    "    img is binary mask image, shape (r,c)\n",
    "    order is down-then-right, i.e. Fortran\n",
    "    format determines if the order needs to be preformatted (according to submission rules) or not\n",
    "\n",
    "    returns run length as an array or string (if format is True)\n",
    "    \"\"\"\n",
    "    bytes = img.reshape(img.shape[0] * img.shape[1], order=order)\n",
    "    runs = []  ## list of run lengths\n",
    "    r = 0  ## the current run length\n",
    "    pos = 1  ## count starts from 1 per WK\n",
    "    for c in bytes:\n",
    "        if (c == 0):\n",
    "            if r != 0:\n",
    "                runs.append((pos, r))\n",
    "                pos += r\n",
    "                r = 0\n",
    "            pos += 1\n",
    "        else:\n",
    "            r += 1\n",
    "\n",
    "    # if last run is unsaved (i.e. data ends with 1)\n",
    "    if r != 0:\n",
    "        runs.append((pos, r))\n",
    "        pos += r\n",
    "        r = 0\n",
    "\n",
    "    if format:\n",
    "        z = ''\n",
    "\n",
    "        for rr in runs:\n",
    "            z += '{} {} '.format(rr[0], rr[1])\n",
    "        return z[:-1]\n",
    "    else:\n",
    "        return runs"
   ]
  },
  {
   "cell_type": "code",
   "execution_count": 14,
   "metadata": {},
   "outputs": [],
   "source": [
    "\n",
    "\n",
    "def test(model, device, data_loader, threshold, pad_f, unpad_f):\n",
    "    model.eval()\n",
    "    \n",
    "    y_pred_all = []\n",
    "    \n",
    "    with torch.no_grad():\n",
    "        \n",
    "        for img in tqdm(data_loader):\n",
    "            img = img.to(device)\n",
    "            img = pad_f(img)\n",
    "            \n",
    "            y_pred = model(img)\n",
    "            \n",
    "            y_pred = unpad_f(y_pred)\n",
    "            \n",
    "            y_pred[y_pred >= threshold] = 1\n",
    "            y_pred[y_pred < threshold] = 0\n",
    "            \n",
    "            y_pred_all.append(y_pred)\n",
    "            \n",
    "    \n",
    "    \n",
    "    y_pred_all = torch.cat(y_pred_all)\n",
    "    y_pred_all = torch.squeeze(y_pred_all)\n",
    "    \n",
    "    return y_pred_all\n",
    "\n",
    "def compute_iou(y_pred, y_true):\n",
    "    intersection = np.sum(y_pred * y_true)\n",
    "    union = np.sum((y_pred + y_true) > 0)\n",
    "    \n",
    "    return intersection / max(1e-9, union)\n",
    "\n",
    "\n",
    "def compute_mean_iou(y_preds, y_trues):\n",
    "    return np.mean([compute_iou(y_pred, y_true) for y_pred, y_true in zip(y_preds, y_trues)])\n",
    "\n",
    "\n",
    "def return_predicts_and_trues(model, device, data_loader, pad_f, unpad_f):\n",
    "    \"\"\"returns original size(nx101x101), not padded size(nx128x128), where n is # of data.\n",
    "    \"\"\"\n",
    "    y_pred_all = []\n",
    "    y_true_all = []\n",
    "    model.eval()\n",
    "    \n",
    "    with torch.no_grad():\n",
    "        for image, mask in data_loader:\n",
    "            image, mask = image.to(device), mask.to(device)\n",
    "            image = pad_f(image)\n",
    "            \n",
    "            y_pred = model(image)\n",
    "            y_pred = unpad_f(y_pred)\n",
    "            \n",
    "            y_pred_all.append(y_pred)\n",
    "            y_true_all.append(mask)\n",
    "    \n",
    "    \n",
    "    y_pred_all = torch.cat(y_pred_all)\n",
    "    y_pred_all = torch.squeeze(y_pred_all)\n",
    "    \n",
    "    y_true_all = torch.cat(y_true_all)\n",
    "    y_true_all = torch.squeeze(y_true_all)\n",
    "\n",
    "    return y_pred_all, y_true_all\n",
    "\n",
    "\n",
    "def threshold_predictions(y_pred, threshold):\n",
    "    ret = y_pred.clone()\n",
    "    ret[y_pred >= threshold] = 1\n",
    "    ret[y_pred < threshold] = 0\n",
    "\n",
    "    return ret\n",
    "    \n"
   ]
  },
  {
   "cell_type": "markdown",
   "metadata": {},
   "source": [
    "### determin best threshold from validation set"
   ]
  },
  {
   "cell_type": "code",
   "execution_count": 15,
   "metadata": {},
   "outputs": [
    {
     "name": "stdout",
     "output_type": "stream",
     "text": [
      "0.1708860759493671\n"
     ]
    },
    {
     "data": {
      "image/png": "[encoded data removed]",
      "text/plain": [
       "<Figure size 432x288 with 1 Axes>"
      ]
     },
     "metadata": {},
     "output_type": "display_data"
    }
   ],
   "source": [
    "thresholds = np.linspace(0.1, 0.9, 80)\n",
    "\n",
    "y_preds, y_trues = return_predicts_and_trues(model, device, val_data_loader, rs.pad, rs.unpad)\n",
    "mean_ious = []\n",
    "for th in thresholds:\n",
    "    mask = threshold_predictions(y_preds, th)\n",
    "    mean_ious.append(compute_mean_iou(mask.cpu().numpy(), y_trues.cpu().numpy()))\n",
    "\n",
    "max_th_index = np.argmax(mean_ious)\n",
    "max_threshold = thresholds[max_th_index]\n",
    "max_iou = mean_ious[max_th_index]\n",
    "plt.plot(thresholds, mean_ious)\n",
    "plt.plot([max_threshold], [max_iou], 'x')\n",
    "print(max_threshold, )"
   ]
  },
  {
   "cell_type": "code",
   "execution_count": 16,
   "metadata": {},
   "outputs": [
    {
     "name": "stderr",
     "output_type": "stream",
     "text": [
      "100%|██████████| 71/71 [01:42<00:00,  1.45s/it]\n"
     ]
    }
   ],
   "source": [
    "\n",
    "test_dataset = SaltDataset(test_image_dir, file_ids=test_ids, is_test=True)\n",
    "test_data_loader = DataLoader(test_dataset, batch_size=256, shuffle=False)\n",
    "y_pred_all = test(model, device, test_data_loader, max_threshold, rs.pad, rs.unpad)\n",
    "\n",
    "masks_all = y_pred_all.cpu().numpy()\n",
    "np.save(\"masks_all.npy\", masks_all)\n"
   ]
  },
  {
   "cell_type": "code",
   "execution_count": null,
   "metadata": {},
   "outputs": [],
   "source": [
    "#masks_all = np.load(\"masks_all.npy\")"
   ]
  },
  {
   "cell_type": "code",
   "execution_count": 18,
   "metadata": {},
   "outputs": [
    {
     "name": "stderr",
     "output_type": "stream",
     "text": [
      "18000it [00:02, 7652.82it/s]\n"
     ]
    }
   ],
   "source": [
    "with open(\"submission_%s.csv\" % submission_number, 'w') as f:\n",
    "    f.write(\"id, rle_mask\\n\")\n",
    "    for idx, mask in tqdm(zip(test_ids, masks_all)):\n",
    "        f.write(\"%s, %s\\n\" % (idx, rl_enc(mask)))"
   ]
  },
  {
   "cell_type": "code",
   "execution_count": null,
   "metadata": {},
   "outputs": [],
   "source": []
  }
 ],
 "metadata": {
  "kernelspec": {
   "display_name": "Python 3",
   "language": "python",
   "name": "python3"
  },
  "language_info": {
   "codemirror_mode": {
    "name": "ipython",
    "version": 3
   },
   "file_extension": ".py",
   "mimetype": "text/x-python",
   "name": "python",
   "nbconvert_exporter": "python",
   "pygments_lexer": "ipython3",
   "version": "3.6.5"
  },
  "varInspector": {
   "cols": {
    "lenName": 16,
    "lenType": 16,
    "lenVar": 40
   },
   "kernels_config": {
    "python": {
     "delete_cmd_postfix": "",
     "delete_cmd_prefix": "del ",
     "library": "var_list.py",
     "varRefreshCmd": "print(var_dic_list())"
    },
    "r": {
     "delete_cmd_postfix": ") ",
     "delete_cmd_prefix": "rm(",
     "library": "var_list.r",
     "varRefreshCmd": "cat(var_dic_list()) "
    }
   },
   "types_to_exclude": [
    "module",
    "function",
    "builtin_function_or_method",
    "instance",
    "_Feature"
   ],
   "window_display": false
  }
 },
 "nbformat": 4,
 "nbformat_minor": 2
}
