{
 "cells": [
  {
   "cell_type": "code",
   "execution_count": 1,
   "metadata": {},
   "outputs": [
    {
     "name": "stdout",
     "output_type": "stream",
     "text": [
      "pytorch versino: 0.4.0\n",
      "use cuda: True\n"
     ]
    }
   ],
   "source": [
    "import torch\n",
    "from torch import nn\n",
    "from torch.nn import functional as F\n",
    "from torchvision import models, transforms\n",
    "import torchvision\n",
    "from torch.autograd import Variable\n",
    "from torch.utils.data import Dataset, DataLoader\n",
    "\n",
    "import numpy as np\n",
    "import pandas as pd\n",
    "import os\n",
    "import glob\n",
    "import cv2\n",
    "from skimage.transform import resize\n",
    "import matplotlib.pyplot as plt\n",
    "%matplotlib inline\n",
    "from unet import UNet\n",
    "from tqdm import tqdm\n",
    "from sklearn.model_selection import train_test_split\n",
    "from early_stopping import EarlyStopping\n",
    "\n",
    "torch.manual_seed(1)\n",
    "use_cuda = torch.cuda.is_available()\n",
    "print(\"pytorch versino:\", torch.__version__)\n",
    "print(\"use cuda:\", use_cuda)\n",
    "\n",
    "submission_number = \"010\""
   ]
  },
  {
   "cell_type": "markdown",
   "metadata": {},
   "source": [
    "## Load Images"
   ]
  },
  {
   "cell_type": "code",
   "execution_count": 2,
   "metadata": {},
   "outputs": [],
   "source": [
    "\n",
    "base_dir = \"/floyd/input/data\"\n",
    "#base_dir = \"../salt_data\"\n",
    "test_image_dir = os.path.join(base_dir, \"test\")\n",
    "train_dir = os.path.join(base_dir, \"train\")\n",
    "train_image_dir = os.path.join(train_dir, \"images\")\n",
    "train_mask_dir = os.path.join(train_dir, \"masks\")\n"
   ]
  },
  {
   "cell_type": "code",
   "execution_count": 3,
   "metadata": {},
   "outputs": [],
   "source": [
    "def load_image(path):\n",
    "    img = cv2.imread(path)\n",
    "    img = img[:, :, 0:1] # take only 1 channel because every channel has same values\n",
    "    img = np.transpose(img, (2, 0, 1))\n",
    "    img = img / 255\n",
    "    \n",
    "    return img"
   ]
  },
  {
   "cell_type": "code",
   "execution_count": 4,
   "metadata": {},
   "outputs": [
    {
     "data": {
      "text/html": [
       "<div>\n",
       "<style scoped>\n",
       "    .dataframe tbody tr th:only-of-type {\n",
       "        vertical-align: middle;\n",
       "    }\n",
       "\n",
       "    .dataframe tbody tr th {\n",
       "        vertical-align: top;\n",
       "    }\n",
       "\n",
       "    .dataframe thead th {\n",
       "        text-align: right;\n",
       "    }\n",
       "</style>\n",
       "<table border=\"1\" class=\"dataframe\">\n",
       "  <thead>\n",
       "    <tr style=\"text-align: right;\">\n",
       "      <th></th>\n",
       "      <th>z</th>\n",
       "    </tr>\n",
       "    <tr>\n",
       "      <th>id</th>\n",
       "      <th></th>\n",
       "    </tr>\n",
       "  </thead>\n",
       "  <tbody>\n",
       "    <tr>\n",
       "      <th>575d24d81d</th>\n",
       "      <td>843</td>\n",
       "    </tr>\n",
       "    <tr>\n",
       "      <th>a266a2a9df</th>\n",
       "      <td>794</td>\n",
       "    </tr>\n",
       "    <tr>\n",
       "      <th>75efad62c1</th>\n",
       "      <td>468</td>\n",
       "    </tr>\n",
       "    <tr>\n",
       "      <th>34e51dba6a</th>\n",
       "      <td>727</td>\n",
       "    </tr>\n",
       "    <tr>\n",
       "      <th>4875705fb0</th>\n",
       "      <td>797</td>\n",
       "    </tr>\n",
       "  </tbody>\n",
       "</table>\n",
       "</div>"
      ],
      "text/plain": [
       "              z\n",
       "id             \n",
       "575d24d81d  843\n",
       "a266a2a9df  794\n",
       "75efad62c1  468\n",
       "34e51dba6a  727\n",
       "4875705fb0  797"
      ]
     },
     "execution_count": 4,
     "metadata": {},
     "output_type": "execute_result"
    }
   ],
   "source": [
    "train_df = pd.read_csv(os.path.join(base_dir, \"train.csv\"), index_col=\"id\", usecols=[0])\n",
    "depth_df = pd.read_csv(os.path.join(base_dir, \"depths.csv\"), index_col=\"id\")\n",
    "train_df = train_df.join(depth_df)\n",
    "test_df = depth_df[~depth_df.index.isin(train_df.index)]\n",
    "\n",
    "train_df.head()"
   ]
  },
  {
   "cell_type": "code",
   "execution_count": 5,
   "metadata": {},
   "outputs": [
    {
     "name": "stderr",
     "output_type": "stream",
     "text": [
      "/usr/local/lib/python3.6/site-packages/ipykernel_launcher.py:3: SettingWithCopyWarning: \n",
      "A value is trying to be set on a copy of a slice from a DataFrame.\n",
      "Try using .loc[row_indexer,col_indexer] = value instead\n",
      "\n",
      "See the caveats in the documentation: http://pandas.pydata.org/pandas-docs/stable/indexing.html#indexing-view-versus-copy\n",
      "  This is separate from the ipykernel package so we can avoid doing imports until\n"
     ]
    }
   ],
   "source": [
    "train_df[\"images\"] = [load_image(os.path.join(train_image_dir, \"%s.png\" % x)).astype(np.float32) for x in train_df.index]\n",
    "train_df[\"masks\"] = [load_image(os.path.join(train_mask_dir, \"%s.png\" % x)).astype(np.float32) for x in train_df.index]\n",
    "test_df[\"images\"] = [load_image(os.path.join(test_image_dir, \"%s.png\" % x)).astype(np.float32) for x in test_df.index]"
   ]
  },
  {
   "cell_type": "code",
   "execution_count": 6,
   "metadata": {},
   "outputs": [
    {
     "data": {
      "text/plain": [
       "18000"
      ]
     },
     "execution_count": 6,
     "metadata": {},
     "output_type": "execute_result"
    }
   ],
   "source": [
    "len(test_df)"
   ]
  },
  {
   "cell_type": "markdown",
   "metadata": {},
   "source": [
    "### confirm the image and mask are gray scale"
   ]
  },
  {
   "cell_type": "code",
   "execution_count": 7,
   "metadata": {},
   "outputs": [
    {
     "name": "stdout",
     "output_type": "stream",
     "text": [
      "613\n"
     ]
    },
    {
     "data": {
      "image/png": "[encoded data removed]",
      "text/plain": [
       "<Figure size 432x288 with 2 Axes>"
      ]
     },
     "metadata": {},
     "output_type": "display_data"
    }
   ],
   "source": [
    "idx = 12\n",
    "img = train_df[\"images\"][idx]\n",
    "mask = train_df[\"masks\"][idx]\n",
    "\n",
    "\n",
    "\n",
    "plt.subplot(1, 2, 1)\n",
    "plt.imshow(img[0, :, :])\n",
    "\n",
    "plt.subplot(1, 2, 2)\n",
    "plt.imshow(mask[0, :, :])\n",
    "\n",
    "print(train_df[\"z\"][idx])"
   ]
  },
  {
   "cell_type": "markdown",
   "metadata": {},
   "source": [
    "## coverage distribution"
   ]
  },
  {
   "cell_type": "code",
   "execution_count": 8,
   "metadata": {},
   "outputs": [],
   "source": [
    "org_size = 101\n",
    "train_df[\"coverage\"] = train_df.masks.map(np.sum) / org_size**2\n",
    "\n",
    "n_coverage_class = 21\n",
    "\n",
    "def coverage_to_class(val):\n",
    "    for i, x in enumerate(np.linspace(0, 1, n_coverage_class)):\n",
    "        if val  <= x:\n",
    "            return i\n",
    "        \n",
    "\n",
    "train_df[\"coverage_class\"] = train_df.coverage.map(coverage_to_class)\n"
   ]
  },
  {
   "cell_type": "code",
   "execution_count": 9,
   "metadata": {},
   "outputs": [
    {
     "data": {
      "text/html": [
       "<div>\n",
       "<style scoped>\n",
       "    .dataframe tbody tr th:only-of-type {\n",
       "        vertical-align: middle;\n",
       "    }\n",
       "\n",
       "    .dataframe tbody tr th {\n",
       "        vertical-align: top;\n",
       "    }\n",
       "\n",
       "    .dataframe thead th {\n",
       "        text-align: right;\n",
       "    }\n",
       "</style>\n",
       "<table border=\"1\" class=\"dataframe\">\n",
       "  <thead>\n",
       "    <tr style=\"text-align: right;\">\n",
       "      <th></th>\n",
       "      <th>z</th>\n",
       "      <th>images</th>\n",
       "      <th>masks</th>\n",
       "      <th>coverage</th>\n",
       "      <th>coverage_class</th>\n",
       "    </tr>\n",
       "    <tr>\n",
       "      <th>id</th>\n",
       "      <th></th>\n",
       "      <th></th>\n",
       "      <th></th>\n",
       "      <th></th>\n",
       "      <th></th>\n",
       "    </tr>\n",
       "  </thead>\n",
       "  <tbody>\n",
       "    <tr>\n",
       "      <th>575d24d81d</th>\n",
       "      <td>843</td>\n",
       "      <td>[[[0.5254902, 0.5137255, 0.5254902, 0.5372549,...</td>\n",
       "      <td>[[[0.0, 0.0, 0.0, 0.0, 0.0, 0.0, 0.0, 0.0, 0.0...</td>\n",
       "      <td>0.000000</td>\n",
       "      <td>0</td>\n",
       "    </tr>\n",
       "    <tr>\n",
       "      <th>a266a2a9df</th>\n",
       "      <td>794</td>\n",
       "      <td>[[[0.34117648, 0.3764706, 0.33333334, 0.223529...</td>\n",
       "      <td>[[[0.0, 0.0, 0.0, 0.0, 0.0, 0.0, 0.0, 0.0, 0.0...</td>\n",
       "      <td>0.504950</td>\n",
       "      <td>11</td>\n",
       "    </tr>\n",
       "    <tr>\n",
       "      <th>75efad62c1</th>\n",
       "      <td>468</td>\n",
       "      <td>[[[0.5686275, 0.46666667, 0.3254902, 0.2627451...</td>\n",
       "      <td>[[[0.0, 0.0, 0.0, 0.0, 0.0, 0.0, 0.0, 0.0, 0.0...</td>\n",
       "      <td>0.993334</td>\n",
       "      <td>20</td>\n",
       "    </tr>\n",
       "    <tr>\n",
       "      <th>34e51dba6a</th>\n",
       "      <td>727</td>\n",
       "      <td>[[[0.5411765, 0.4745098, 0.39607844, 0.3058823...</td>\n",
       "      <td>[[[0.0, 0.0, 0.0, 0.0, 0.0, 0.0, 0.0, 0.0, 0.0...</td>\n",
       "      <td>0.149201</td>\n",
       "      <td>3</td>\n",
       "    </tr>\n",
       "    <tr>\n",
       "      <th>4875705fb0</th>\n",
       "      <td>797</td>\n",
       "      <td>[[[0.06666667, 0.078431375, 0.09019608, 0.1058...</td>\n",
       "      <td>[[[0.0, 0.0, 0.0, 0.0, 0.0, 0.0, 0.0, 0.0, 0.0...</td>\n",
       "      <td>0.042839</td>\n",
       "      <td>1</td>\n",
       "    </tr>\n",
       "  </tbody>\n",
       "</table>\n",
       "</div>"
      ],
      "text/plain": [
       "              z                                             images  \\\n",
       "id                                                                   \n",
       "575d24d81d  843  [[[0.5254902, 0.5137255, 0.5254902, 0.5372549,...   \n",
       "a266a2a9df  794  [[[0.34117648, 0.3764706, 0.33333334, 0.223529...   \n",
       "75efad62c1  468  [[[0.5686275, 0.46666667, 0.3254902, 0.2627451...   \n",
       "34e51dba6a  727  [[[0.5411765, 0.4745098, 0.39607844, 0.3058823...   \n",
       "4875705fb0  797  [[[0.06666667, 0.078431375, 0.09019608, 0.1058...   \n",
       "\n",
       "                                                        masks  coverage  \\\n",
       "id                                                                        \n",
       "575d24d81d  [[[0.0, 0.0, 0.0, 0.0, 0.0, 0.0, 0.0, 0.0, 0.0...  0.000000   \n",
       "a266a2a9df  [[[0.0, 0.0, 0.0, 0.0, 0.0, 0.0, 0.0, 0.0, 0.0...  0.504950   \n",
       "75efad62c1  [[[0.0, 0.0, 0.0, 0.0, 0.0, 0.0, 0.0, 0.0, 0.0...  0.993334   \n",
       "34e51dba6a  [[[0.0, 0.0, 0.0, 0.0, 0.0, 0.0, 0.0, 0.0, 0.0...  0.149201   \n",
       "4875705fb0  [[[0.0, 0.0, 0.0, 0.0, 0.0, 0.0, 0.0, 0.0, 0.0...  0.042839   \n",
       "\n",
       "            coverage_class  \n",
       "id                          \n",
       "575d24d81d               0  \n",
       "a266a2a9df              11  \n",
       "75efad62c1              20  \n",
       "34e51dba6a               3  \n",
       "4875705fb0               1  "
      ]
     },
     "execution_count": 9,
     "metadata": {},
     "output_type": "execute_result"
    }
   ],
   "source": [
    "train_df.head()"
   ]
  },
  {
   "cell_type": "code",
   "execution_count": 10,
   "metadata": {},
   "outputs": [
    {
     "data": {
      "text/plain": [
       "(array([1562.,  421.,  155.,  171.,  125.,  105.,  119.,   94.,   92.,\n",
       "         105.,  120.,   96.,  109.,   88.,   86.,   77.,   71.,   80.,\n",
       "          79.,   82.,  163.]),\n",
       " array([ 0.        ,  0.95238095,  1.9047619 ,  2.85714286,  3.80952381,\n",
       "         4.76190476,  5.71428571,  6.66666667,  7.61904762,  8.57142857,\n",
       "         9.52380952, 10.47619048, 11.42857143, 12.38095238, 13.33333333,\n",
       "        14.28571429, 15.23809524, 16.19047619, 17.14285714, 18.0952381 ,\n",
       "        19.04761905, 20.        ]),\n",
       " <a list of 21 Patch objects>)"
      ]
     },
     "execution_count": 10,
     "metadata": {},
     "output_type": "execute_result"
    },
    {
     "data": {
      "image/png": "[encoded data removed]",
      "text/plain": [
       "<Figure size 432x288 with 2 Axes>"
      ]
     },
     "metadata": {},
     "output_type": "display_data"
    }
   ],
   "source": [
    "plt.subplot(1, 2, 1)\n",
    "plt.hist(train_df.coverage, bins=21)\n",
    "plt.subplot(1, 2, 2)\n",
    "plt.hist(train_df.coverage_class, bins=n_coverage_class)"
   ]
  },
  {
   "cell_type": "markdown",
   "metadata": {},
   "source": [
    "### depth vs coverage"
   ]
  },
  {
   "cell_type": "code",
   "execution_count": null,
   "metadata": {},
   "outputs": [],
   "source": []
  },
  {
   "cell_type": "markdown",
   "metadata": {},
   "source": [
    "### split training data based on coverage"
   ]
  },
  {
   "cell_type": "code",
   "execution_count": 11,
   "metadata": {},
   "outputs": [],
   "source": [
    "train_id, valid_id = train_test_split(train_df.index.values, test_size=0.2, stratify=train_df.coverage_class, random_state=1)\n",
    "\n",
    "valid_df = train_df.loc[train_df.index.isin(valid_id)]\n",
    "train_df = train_df.loc[train_df.index.isin(train_id)]"
   ]
  },
  {
   "cell_type": "code",
   "execution_count": 12,
   "metadata": {},
   "outputs": [],
   "source": [
    "org_train_df = train_df.copy()"
   ]
  },
  {
   "cell_type": "markdown",
   "metadata": {},
   "source": [
    "### Training"
   ]
  },
  {
   "cell_type": "code",
   "execution_count": 13,
   "metadata": {},
   "outputs": [
    {
     "name": "stdout",
     "output_type": "stream",
     "text": [
      "13 14 13 14\n"
     ]
    },
    {
     "data": {
      "text/plain": [
       "tensor([[[[  0.,   1.,   2.,   3.,   4.],\n",
       "          [  5.,   6.,   7.,   8.,   9.],\n",
       "          [ 10.,  11.,  12.,  13.,  14.],\n",
       "          [ 15.,  16.,  17.,  18.,  19.],\n",
       "          [ 20.,  21.,  22.,  23.,  24.]]]])"
      ]
     },
     "execution_count": 13,
     "metadata": {},
     "output_type": "execute_result"
    }
   ],
   "source": [
    "class Resizing:\n",
    "    def __init__(self, left, right, top, bottom):\n",
    "        \n",
    "        self.m = nn.ReflectionPad2d((left, right, top, bottom))\n",
    "        \n",
    "        # for slicing\n",
    "        self.top = top\n",
    "        self.bottom = -bottom if bottom != 0 else None # 0 not work in slice in unpad function\n",
    "        self.left = left\n",
    "        self.right = -right if right != 0 else None\n",
    "        \n",
    "    def pad(self, imgs):\n",
    "        return self.m(imgs)\n",
    "    \n",
    "    def unpad(self, imgs):\n",
    "        return imgs[:, :, self.top:self.bottom, self.left:self.right]\n",
    "\n",
    "    \n",
    "size_diff = 128 - 101\n",
    "pad_size_left = size_diff // 2\n",
    "pad_size_right = size_diff // 2 + size_diff % 2\n",
    "pad_size_top = pad_size_left\n",
    "pad_size_bottom = pad_size_right\n",
    "print(pad_size_left, pad_size_right, pad_size_top, pad_size_bottom)\n",
    "\n",
    "a = torch.arange(25).reshape(1,1,5,5)\n",
    "rs = Resizing(0, 1, 0, 2)\n",
    "b = rs.pad(a)\n",
    "rs.unpad(b)\n"
   ]
  },
  {
   "cell_type": "code",
   "execution_count": 14,
   "metadata": {},
   "outputs": [],
   "source": [
    "class SaltDataset(Dataset):\n",
    "    def __init__(self, df, is_test=False):\n",
    "        self.df = df\n",
    "        self.is_test = is_test\n",
    "    \n",
    "    def __len__(self):\n",
    "        return len(self.df)\n",
    "    \n",
    "    def __getitem__(self, idx):\n",
    "        \n",
    "        img = self.df[\"images\"][idx]\n",
    "        \n",
    "        if self.is_test:\n",
    "            return img\n",
    "        \n",
    "        else:\n",
    "            mask = self.df[\"masks\"][idx]\n",
    "\n",
    "            return img, mask\n",
    "        \n",
    "    \n",
    "    "
   ]
  },
  {
   "cell_type": "code",
   "execution_count": 15,
   "metadata": {},
   "outputs": [],
   "source": [
    "def train(model, device, data_loader, loss_fn, optimizer, pad_f):\n",
    "    train_losses = []\n",
    "    model.train()\n",
    "    \n",
    "    for i, (image, mask) in enumerate((data_loader)):\n",
    "        image, mask = image.to(device), mask.to(device)\n",
    "        image = pad_f(image)\n",
    "        mask = pad_f(mask)\n",
    "        \n",
    "        y_pred = model(image)\n",
    "        loss = loss_fn(y_pred, mask)\n",
    "        train_losses.append(loss.item())\n",
    "        \n",
    "        optimizer.zero_grad()\n",
    "        loss.backward()\n",
    "        \n",
    "        optimizer.step()\n",
    "    \n",
    "    return train_losses\n",
    "\n",
    "\n",
    "def validation(model, device, data_loader, loss_fn, pad_f):\n",
    "    val_losses = []\n",
    "    model.eval()\n",
    "    \n",
    "    \n",
    "    with torch.no_grad():\n",
    "        for image, mask in data_loader:\n",
    "            image, mask = image.to(device), mask.to(device)\n",
    "            image = pad_f(image)\n",
    "            mask = pad_f(mask)\n",
    "            \n",
    "            y_pred = model(image)\n",
    "\n",
    "            loss = loss_fn(y_pred, mask)\n",
    "            val_losses.append(loss.item())\n",
    "    \n",
    "    return val_losses\n",
    "\n",
    "            "
   ]
  },
  {
   "cell_type": "code",
   "execution_count": 16,
   "metadata": {},
   "outputs": [
    {
     "data": {
      "text/plain": [
       "3200"
      ]
     },
     "execution_count": 16,
     "metadata": {},
     "output_type": "execute_result"
    }
   ],
   "source": [
    "# data augmentation\n",
    "\n",
    "#aug_df1 = train_df.copy()\n",
    "#aug_df1[\"images\"] = aug_df1.images.map(np.fliplr).map(np.copy) #np.copy needed to avoid negative stride\n",
    "#aug_df1[\"masks\"] = aug_df1.masks.map(np.fliplr).map(np.copy)\n",
    "\n",
    "#aug2 = train_df.copy()\n",
    "#aug2[\"images\"] = train_df.images.map(np.flipud).map(np.copy)\n",
    "#aug2[\"masks\"] = train_df.masks.map(np.flipud).map(np.copy)\n",
    "\n",
    "\n",
    "\n",
    "#train_df = pd.concat((train_df, aug_df1))\n",
    "len(train_df)\n"
   ]
  },
  {
   "cell_type": "code",
   "execution_count": 23,
   "metadata": {},
   "outputs": [],
   "source": [
    "train_dataset = SaltDataset(train_df)\n",
    "val_dataset = SaltDataset(valid_df)\n",
    "train_data_loader = DataLoader(train_dataset, batch_size=16, shuffle=True)\n",
    "val_data_loader = DataLoader(val_dataset, batch_size=16, shuffle=True)\n",
    "\n",
    "import unet\n",
    "import importlib\n",
    "importlib.reload(unet)\n",
    "from unet import UNet\n",
    "\n",
    "\n",
    "device = torch.device(\"cuda\" if use_cuda else \"cpu\")\n",
    "model = UNet(num_class=1, input_channel=1, depth=6, start_filters=16).to(device)\n",
    "\n",
    "learning_rate = 1e-4\n",
    "loss_fn = torch.nn.BCELoss()\n",
    "optimizer = torch.optim.Adam(model.parameters(), lr=learning_rate)\n",
    "\n",
    "n_epoch = 50\n",
    "\n",
    "train_loss_list = []\n",
    "val_loss_list = []\n",
    "\n",
    "rs = Resizing(pad_size_left, pad_size_right, pad_size_top, pad_size_bottom)\n",
    "es = EarlyStopping(patience=5)"
   ]
  },
  {
   "cell_type": "code",
   "execution_count": 24,
   "metadata": {
    "scrolled": true
   },
   "outputs": [
    {
     "name": "stdout",
     "output_type": "stream",
     "text": [
      "Epoch: 0, Train: 0.430, Val: 0.453\n",
      "Epoch: 1, Train: 0.376, Val: 0.381\n",
      "Epoch: 2, Train: 0.351, Val: 0.354\n",
      "Epoch: 3, Train: 0.388, Val: 0.328\n",
      "Epoch: 4, Train: 0.371, Val: 0.302\n",
      "Epoch: 5, Train: 0.244, Val: 0.280\n",
      "Epoch: 6, Train: 0.270, Val: 0.247\n",
      "Epoch: 7, Train: 0.227, Val: 0.224\n",
      "Epoch: 8, Train: 0.156, Val: 0.217\n",
      "Epoch: 9, Train: 0.186, Val: 0.216\n",
      "Epoch: 10, Train: 0.252, Val: 0.203\n",
      "Epoch: 11, Train: 0.134, Val: 0.193\n",
      "Epoch: 12, Train: 0.133, Val: 0.186\n",
      "Epoch: 13, Train: 0.153, Val: 0.187\n",
      "Epoch: 14, Train: 0.085, Val: 0.188\n",
      "Epoch: 15, Train: 0.067, Val: 0.179\n",
      "Epoch: 16, Train: 0.086, Val: 0.182\n",
      "Epoch: 17, Train: 0.121, Val: 0.183\n",
      "Epoch: 18, Train: 0.128, Val: 0.195\n",
      "Epoch: 19, Train: 0.117, Val: 0.206\n",
      "Epoch: 20, Train: 0.063, Val: 0.193\n"
     ]
    },
    {
     "data": {
      "text/plain": [
       "<matplotlib.legend.Legend at 0x7f52fd9255f8>"
      ]
     },
     "execution_count": 24,
     "metadata": {},
     "output_type": "execute_result"
    },
    {
     "data": {
      "image/png": "[encoded data removed]",
      "text/plain": [
       "<Figure size 432x288 with 1 Axes>"
      ]
     },
     "metadata": {},
     "output_type": "display_data"
    }
   ],
   "source": [
    "#n_epoch = 1\n",
    "\n",
    "for epoch in range(n_epoch):\n",
    "    \n",
    "    train_losses = train(model, device, train_data_loader, loss_fn, optimizer, rs.pad)\n",
    "    train_loss = np.mean(train_losses[-3])\n",
    "    train_loss_list.append(train_loss)\n",
    "    \n",
    "    val_loss = np.mean(validation(model, device, val_data_loader, loss_fn, rs.pad))\n",
    "    val_loss_list.append(val_loss)\n",
    "    \n",
    "    print(\"Epoch: %d, Train: %.3f, Val: %.3f\" % (epoch, train_loss, val_loss))\n",
    "    if es.step(val_loss, model, \"model_%s\" % submission_number):\n",
    "        break\n",
    "\n",
    "plt.plot(train_loss_list, label=\"train\")\n",
    "plt.plot(val_loss_list, label=\"val\")\n",
    "plt.legend()\n",
    "        "
   ]
  },
  {
   "cell_type": "code",
   "execution_count": null,
   "metadata": {},
   "outputs": [],
   "source": [
    "#torch.save(model.state_dict(), \"model_%s\" % submission_number)"
   ]
  },
  {
   "cell_type": "markdown",
   "metadata": {},
   "source": [
    "### submission"
   ]
  },
  {
   "cell_type": "code",
   "execution_count": 25,
   "metadata": {},
   "outputs": [],
   "source": [
    "#model.load_state_dict(torch.load(\"model_007\"))"
   ]
  },
  {
   "cell_type": "code",
   "execution_count": 26,
   "metadata": {},
   "outputs": [],
   "source": [
    "def rl_enc(img, order='F'):\n",
    "    \"\"\"Convert binary mask image to run-length array or string.\n",
    "    \n",
    "    Args:\n",
    "    img: image in shape [n, m]\n",
    "    order: is down-then-right, i.e. Fortran(F)\n",
    "    string: return in string or array\n",
    "\n",
    "    Return:\n",
    "    run-length as a string: <start[1s] length[1s] ... ...>\n",
    "    \"\"\"\n",
    "    bytez = img.reshape(img.shape[0] * img.shape[1], order=order)\n",
    "    bytez = np.concatenate([[0], bytez, [0]])\n",
    "    runs = np.where(bytez[1:] != bytez[:-1])[0] + 1 # pos start at 1\n",
    "    runs[1::2] -= runs[::2]\n",
    "    return ' '.join(str(x) for x in runs)\n",
    "\n",
    "# Use for sanity check the encode function\n",
    "def rl_dec(rl_string, shape=(101, 101), order='F'):\n",
    "    \"\"\"Convert run-length string to binary mask image.\n",
    "    \n",
    "    Args:\n",
    "    rl_string: \n",
    "    shape: target shape of array\n",
    "    order: decode order is down-then-right, i.e. Fortran(F)\n",
    "\n",
    "    Return:\n",
    "    binary mask image as array\n",
    "    \"\"\"\n",
    "    s = rl_string.split()\n",
    "    starts, lengths = [np.asarray(x, dtype=int) for x in (s[0:][::2], s[1:][::2])]\n",
    "    starts -= 1\n",
    "    ends = starts + lengths\n",
    "    img = np.zeros(shape[0]*shape[1], dtype=np.uint8)\n",
    "    for lo, hi in zip(starts, ends):\n",
    "        img[lo:hi] = 1\n",
    "    return img.reshape(shape, order=order)"
   ]
  },
  {
   "cell_type": "code",
   "execution_count": 30,
   "metadata": {},
   "outputs": [],
   "source": [
    "\n",
    "\n",
    "def test(model, device, data_loader, threshold, pad_f, unpad_f):\n",
    "    model.eval()\n",
    "    \n",
    "    y_pred_all = []\n",
    "    \n",
    "    with torch.no_grad():\n",
    "        \n",
    "        for img in tqdm(data_loader):\n",
    "            img = img.to(device)\n",
    "            img = pad_f(img)\n",
    "            \n",
    "            y_pred = model(img)\n",
    "            \n",
    "            y_pred = unpad_f(y_pred)\n",
    "            \n",
    "            y_pred[y_pred >= threshold] = 1\n",
    "            y_pred[y_pred < threshold] = 0\n",
    "            \n",
    "            y_pred_all.append(y_pred)\n",
    "            \n",
    "    \n",
    "    \n",
    "    y_pred_all = torch.cat(y_pred_all)\n",
    "    y_pred_all = torch.squeeze(y_pred_all)\n",
    "    \n",
    "    return y_pred_all\n",
    "\n",
    "def compute_iou(y_pred, y_true):\n",
    "    intersection = np.sum(y_pred * y_true)\n",
    "    union = np.sum((y_pred + y_true) > 0)\n",
    "    \n",
    "    return max(intersection, 1e-9) / max(1e-9, union)\n",
    "\n",
    "\n",
    "def compute_mean_iou(y_preds, y_trues):\n",
    "    return np.mean([compute_iou(y_pred, y_true) for y_pred, y_true in zip(y_preds, y_trues)])\n",
    "\n",
    "\n",
    "def return_predicts_and_trues(model, device, data_loader, pad_f, unpad_f):\n",
    "    \"\"\"returns original size(nx101x101), not padded size(nx128x128), where n is # of data.\n",
    "    \"\"\"\n",
    "    y_pred_all = []\n",
    "    y_true_all = []\n",
    "    model.eval()\n",
    "    \n",
    "    with torch.no_grad():\n",
    "        for image, mask in data_loader:\n",
    "            image, mask = image.to(device), mask.to(device)\n",
    "            image = pad_f(image)\n",
    "            \n",
    "            y_pred = model(image)\n",
    "            y_pred = unpad_f(y_pred)\n",
    "            \n",
    "            y_pred_all.append(y_pred)\n",
    "            y_true_all.append(mask)\n",
    "    \n",
    "    \n",
    "    y_pred_all = torch.cat(y_pred_all)\n",
    "    y_pred_all = torch.squeeze(y_pred_all)\n",
    "    \n",
    "    y_true_all = torch.cat(y_true_all)\n",
    "    y_true_all = torch.squeeze(y_true_all)\n",
    "\n",
    "    return y_pred_all, y_true_all\n",
    "\n",
    "\n",
    "def threshold_predictions(y_pred, threshold):\n",
    "    ret = y_pred.clone()\n",
    "    ret[y_pred >= threshold] = 1\n",
    "    ret[y_pred < threshold] = 0\n",
    "\n",
    "    return ret\n",
    "    \n"
   ]
  },
  {
   "cell_type": "markdown",
   "metadata": {},
   "source": [
    "### determin best threshold from validation set"
   ]
  },
  {
   "cell_type": "code",
   "execution_count": 31,
   "metadata": {},
   "outputs": [
    {
     "name": "stdout",
     "output_type": "stream",
     "text": [
      "0.76\n"
     ]
    },
    {
     "data": {
      "image/png": "[encoded data removed]",
      "text/plain": [
       "<Figure size 432x288 with 1 Axes>"
      ]
     },
     "metadata": {},
     "output_type": "display_data"
    }
   ],
   "source": [
    "thresholds = np.linspace(0., 1, 101)\n",
    "\n",
    "y_preds, y_trues = return_predicts_and_trues(model, device, val_data_loader, rs.pad, rs.unpad)\n",
    "mean_ious = []\n",
    "for th in thresholds:\n",
    "    mask = threshold_predictions(y_preds, th)\n",
    "    mean_ious.append(compute_mean_iou(mask.cpu().numpy(), y_trues.cpu().numpy()))\n",
    "\n",
    "max_th_index = np.argmax(mean_ious)\n",
    "max_threshold = thresholds[max_th_index]\n",
    "max_iou = mean_ious[max_th_index]\n",
    "plt.plot(thresholds, mean_ious)\n",
    "plt.plot([max_threshold], [max_iou], 'x')\n",
    "print(max_threshold, )"
   ]
  },
  {
   "cell_type": "code",
   "execution_count": null,
   "metadata": {},
   "outputs": [
    {
     "name": "stderr",
     "output_type": "stream",
     "text": [
      " 83%|████████▎ | 59/71 [00:34<00:07,  1.71it/s]"
     ]
    }
   ],
   "source": [
    "\n",
    "test_dataset = SaltDataset(test_df, is_test=True)\n",
    "test_data_loader = DataLoader(test_dataset, batch_size=256, shuffle=False)\n",
    "y_pred_all = test(model, device, test_data_loader, max_threshold, rs.pad, rs.unpad)\n",
    "\n",
    "masks_all = y_pred_all.cpu().numpy()\n",
    "#np.save(\"masks_all.npy\", masks_all)\n"
   ]
  },
  {
   "cell_type": "code",
   "execution_count": null,
   "metadata": {},
   "outputs": [],
   "source": [
    "#masks_all = np.load(\"masks_all.npy\")"
   ]
  },
  {
   "cell_type": "code",
   "execution_count": null,
   "metadata": {},
   "outputs": [],
   "source": [
    "with open(\"submission_%s.csv\" % submission_number, 'w') as f:\n",
    "    f.write(\"id,rle_mask\\n\")\n",
    "    for idx, mask in tqdm(zip(test_df.index, masks_all)):\n",
    "        f.write(\"%s,%s\\n\" % (idx, rl_enc(mask)))"
   ]
  },
  {
   "cell_type": "code",
   "execution_count": null,
   "metadata": {},
   "outputs": [],
   "source": []
  }
 ],
 "metadata": {
  "kernelspec": {
   "display_name": "Python 3",
   "language": "python",
   "name": "python3"
  },
  "language_info": {
   "codemirror_mode": {
    "name": "ipython",
    "version": 3
   },
   "file_extension": ".py",
   "mimetype": "text/x-python",
   "name": "python",
   "nbconvert_exporter": "python",
   "pygments_lexer": "ipython3",
   "version": "3.6.5"
  },
  "varInspector": {
   "cols": {
    "lenName": 16,
    "lenType": 16,
    "lenVar": 40
   },
   "kernels_config": {
    "python": {
     "delete_cmd_postfix": "",
     "delete_cmd_prefix": "del ",
     "library": "var_list.py",
     "varRefreshCmd": "print(var_dic_list())"
    },
    "r": {
     "delete_cmd_postfix": ") ",
     "delete_cmd_prefix": "rm(",
     "library": "var_list.r",
     "varRefreshCmd": "cat(var_dic_list()) "
    }
   },
   "types_to_exclude": [
    "module",
    "function",
    "builtin_function_or_method",
    "instance",
    "_Feature"
   ],
   "window_display": false
  }
 },
 "nbformat": 4,
 "nbformat_minor": 2
}
